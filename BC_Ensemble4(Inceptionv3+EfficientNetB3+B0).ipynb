{
  "nbformat": 4,
  "nbformat_minor": 0,
  "metadata": {
    "colab": {
      "provenance": [],
      "gpuType": "V28",
      "include_colab_link": true
    },
    "kernelspec": {
      "name": "python3",
      "display_name": "Python 3"
    },
    "language_info": {
      "name": "python"
    },
    "accelerator": "TPU"
  },
  "cells": [
    {
      "cell_type": "markdown",
      "metadata": {
        "id": "view-in-github",
        "colab_type": "text"
      },
      "source": [
        "<a href=\"https://colab.research.google.com/github/jasminjahanpuspo/All_Lab_Code/blob/main/BC_Ensemble4(Inceptionv3%2BEfficientNetB3%2BB0).ipynb\" target=\"_parent\"><img src=\"https://colab.research.google.com/assets/colab-badge.svg\" alt=\"Open In Colab\"/></a>"
      ]
    },
    {
      "cell_type": "code",
      "execution_count": 1,
      "metadata": {
        "id": "5TTxccApWehX",
        "colab": {
          "base_uri": "https://localhost:8080/"
        },
        "outputId": "7949d1e6-f0b7-4a73-f8f7-8e5a6a7b4ca5"
      },
      "outputs": [
        {
          "output_type": "stream",
          "name": "stdout",
          "text": [
            "Mounted at /content/drive\n"
          ]
        }
      ],
      "source": [
        "from google.colab import drive\n",
        "drive.mount('/content/drive')"
      ]
    },
    {
      "cell_type": "code",
      "source": [
        "import numpy as np\n",
        "import cv2\n",
        "import os\n",
        "import pandas as pd\n",
        "\n",
        "import glob as gb\n",
        "import seaborn as sns\n",
        "import matplotlib.pyplot as plt\n",
        "%matplotlib inline\n",
        "\n",
        "import tensorflow as tf\n",
        "from tensorflow import keras\n",
        "\n",
        "from tensorflow.keras.preprocessing import image_dataset_from_directory\n",
        "from tensorflow.keras.layers.experimental.preprocessing import RandomFlip, RandomRotation\n",
        "from tensorflow.keras.layers import Dense, Dropout, Flatten\n",
        "from tensorflow.keras.layers import Conv2D, MaxPool2D ,LeakyReLU\n",
        "\n",
        "from tensorflow.keras.models import Model, load_model\n",
        "from tensorflow.keras.models import Sequential\n",
        "from tensorflow.keras.layers import Input, Average"
      ],
      "metadata": {
        "id": "Kg8JBArebR0J"
      },
      "execution_count": 1,
      "outputs": []
    },
    {
      "cell_type": "code",
      "source": [
        "## Define the directories for training, testing, and validation\n",
        "train_directory = '/content/drive/MyDrive/MIAS/train'\n",
        "test_directory = '/content/drive/MyDrive/MIAS/test'\n",
        "valid_directory = '/content/drive/MyDrive/MIAS/val'"
      ],
      "metadata": {
        "id": "qv1LcLJ8bUGn"
      },
      "execution_count": 2,
      "outputs": []
    },
    {
      "cell_type": "code",
      "source": [
        "import glob as gb  # Import glob as gb"
      ],
      "metadata": {
        "id": "BusPajK2gqAW"
      },
      "execution_count": 3,
      "outputs": []
    },
    {
      "cell_type": "code",
      "source": [
        "import os\n",
        "import glob\n",
        "\n",
        "# Specify the directory containing the .gdf5 files\n",
        "directory = '/content/drive/MyDrive/MIAS/BC_Code/inceptiov3'  # Change this to your directory path\n",
        "\n",
        "# Use glob to find all .gdf5 files in the directory\n",
        "gdf5_files = glob.glob(os.path.join(directory, '*.hdf5'))\n",
        "\n",
        "# Initialize variables to track the latest file\n",
        "latest_file = None\n",
        "latest_time = 0\n",
        "\n",
        "# Iterate through the files to find the latest one\n",
        "for file in gdf5_files:\n",
        "    # Get the last modified time\n",
        "    modified_time = os.path.getmtime(file)\n",
        "\n",
        "    # Update latest_file if this file is newer\n",
        "    if modified_time > latest_time:\n",
        "        latest_time = modified_time\n",
        "        latest_file = file\n",
        "\n",
        "# Output the result\n",
        "if latest_file:\n",
        "    print(f\"The latest .gdf5 file is: {latest_file}\")\n",
        "else:\n",
        "    print(\"No .gdf5 files found.\")\n"
      ],
      "metadata": {
        "id": "ZK60P91JbV6u",
        "colab": {
          "base_uri": "https://localhost:8080/"
        },
        "outputId": "0bfe9944-60d4-44f0-93a2-cc2d69246f26"
      },
      "execution_count": 20,
      "outputs": [
        {
          "output_type": "stream",
          "name": "stdout",
          "text": [
            "The latest .gdf5 file is: /content/drive/MyDrive/MIAS/BC_Code/resnet50/resnet50-24-0.8534.hdf5\n"
          ]
        }
      ]
    },
    {
      "cell_type": "code",
      "source": [],
      "metadata": {
        "id": "BLTXxRB1zqPv"
      },
      "execution_count": null,
      "outputs": []
    },
    {
      "cell_type": "code",
      "source": [
        "## Define the directories for of wieghted path as .hdf5\n",
        "model_1 = load_model('/content/drive/MyDrive/MIAS/BC_Code/efficientnetb0/efficientnetbo-08-0.9948.hdf5')\n",
        "model_1 = Model(inputs=model_1.inputs,\n",
        "                outputs=model_1.outputs,\n",
        "                name='name_of_model_1')\n",
        "\n",
        "model_2 = load_model('/content/drive/MyDrive/MIAS/BC_Code/oldefficientnetb3/efficientnetb3-14-0.9965.hdf5')\n",
        "model_2 = Model(inputs=model_2.inputs,\n",
        "                outputs=model_2.outputs,\n",
        "                name='name_of_model_2')\n",
        "\n",
        "model_3 = load_model('/content/drive/MyDrive/MIAS/BC_Code/inceptiov3/inceptionv3-27-0.9721.hdf5')\n",
        "model_3 = Model(inputs=model_3.inputs,\n",
        "                outputs=model_3.outputs,\n",
        "                name='name_of_model_3')"
      ],
      "metadata": {
        "id": "anazwt-DbXJn"
      },
      "execution_count": 5,
      "outputs": []
    },
    {
      "cell_type": "code",
      "source": [
        "IMG_SIZE = (224, 224)  # define resolution (299,299) /(224,224)\n",
        "BATCH_SIZE = 128       # varies from dataset to datset prefferable 128/68/32"
      ],
      "metadata": {
        "id": "qpPPYYvGbYoG"
      },
      "execution_count": 6,
      "outputs": []
    },
    {
      "cell_type": "code",
      "source": [
        "# Create TensorFlow datasets for training, testing, and validation\n",
        "#you can customize parameters as per dataset\n",
        "train_dataset = image_dataset_from_directory(\n",
        "    train_directory,\n",
        "    shuffle=True,\n",
        "    labels='inferred',\n",
        "    batch_size=BATCH_SIZE,\n",
        "    image_size=IMG_SIZE,\n",
        "    color_mode='rgb',\n",
        "    seed=42\n",
        ")\n",
        "\n",
        "test_dataset = image_dataset_from_directory(\n",
        "    test_directory,\n",
        "    shuffle=True,\n",
        "    labels='inferred',\n",
        "    batch_size=BATCH_SIZE,\n",
        "    image_size=IMG_SIZE,\n",
        "    color_mode='rgb',\n",
        "    seed=42\n",
        ")\n",
        "\n",
        "valid_dataset = image_dataset_from_directory(\n",
        "    valid_directory,\n",
        "    shuffle=True,\n",
        "    labels='inferred',\n",
        "    batch_size=BATCH_SIZE,\n",
        "    image_size=IMG_SIZE,\n",
        "    color_mode='rgb',\n",
        "    seed=42\n",
        ")"
      ],
      "metadata": {
        "id": "aMRacGQkbZ7J",
        "colab": {
          "base_uri": "https://localhost:8080/"
        },
        "outputId": "049866aa-ca3e-4de3-aeca-fb4187b87c31"
      },
      "execution_count": 7,
      "outputs": [
        {
          "output_type": "stream",
          "name": "stdout",
          "text": [
            "Found 3294 files belonging to 2 classes.\n",
            "Found 573 files belonging to 2 classes.\n",
            "Found 573 files belonging to 2 classes.\n"
          ]
        }
      ]
    },
    {
      "cell_type": "code",
      "source": [
        "# Optional: You can also specify the class names if you have a specific order for your classes\n",
        "class_names = train_dataset.class_names\n",
        "\n",
        "# Print class names\n",
        "print(\"Class Names:\", class_names)"
      ],
      "metadata": {
        "id": "NGZFr4pqfp-U",
        "colab": {
          "base_uri": "https://localhost:8080/"
        },
        "outputId": "f7b65b15-5e22-4642-a749-1c517c549b1f"
      },
      "execution_count": 8,
      "outputs": [
        {
          "output_type": "stream",
          "name": "stdout",
          "text": [
            "Class Names: ['benign', 'malignant']\n"
          ]
        }
      ]
    },
    {
      "cell_type": "code",
      "source": [
        "#plot bar chart for demonstrating data size\n",
        "Dataset = []\n",
        "for folder in os.listdir(train_directory):\n",
        "    files = gb.glob(pathname=str(train_directory + \"/\" + folder +\"/*.*\"))\n",
        "    Dataset.append(len(files))"
      ],
      "metadata": {
        "id": "Umv4M18GbaXg"
      },
      "execution_count": 9,
      "outputs": []
    },
    {
      "cell_type": "code",
      "source": [
        "# Calculate total number of samples in the dataset\n",
        "total = np.sum(Dataset)\n",
        "\n",
        "# Initialize an empty dictionary to hold the weights\n",
        "class_weight = {}\n",
        "\n",
        "# Dynamically calculate the weight for each class\n",
        "for i in range(len(Dataset)):\n",
        "    class_weight[i] = (total / (len(Dataset) * Dataset[i]))\n",
        "\n",
        "# Print the computed weights for each class\n",
        "for class_id, weight in class_weight.items():\n",
        "    print(f'Weight for class {class_id}: {weight:.2f}')\n",
        "\n",
        "# Output the class weights dictionary\n",
        "print(class_weight)"
      ],
      "metadata": {
        "id": "NbbAT0JFfKR3",
        "colab": {
          "base_uri": "https://localhost:8080/"
        },
        "outputId": "80f56c66-0b8d-4973-e820-7375b29c76e1"
      },
      "execution_count": 10,
      "outputs": [
        {
          "output_type": "stream",
          "name": "stdout",
          "text": [
            "Weight for class 0: 1.00\n",
            "Weight for class 1: 1.00\n",
            "{0: 1.0, 1: 1.0}\n"
          ]
        }
      ]
    },
    {
      "cell_type": "code",
      "source": [
        "base_learning_rate = 0.001 # prefferable lr is 0.0001 or 0.001\n",
        "IMG_SHAPE = IMG_SIZE +(3,)"
      ],
      "metadata": {
        "id": "s5NUrikhbdAP"
      },
      "execution_count": 11,
      "outputs": []
    },
    {
      "cell_type": "code",
      "source": [
        "models = [model_1, model_2, model_3]\n",
        "model_input = Input(shape=(224, 224, 3))\n",
        "model_outputs = [model(model_input) for model in models]\n",
        "ensemble_output = Average()(model_outputs)\n",
        "ensemble_model = Model(inputs=model_input, outputs=ensemble_output, name='ensemble')"
      ],
      "metadata": {
        "id": "IfP-f0Cqbdp-"
      },
      "execution_count": 12,
      "outputs": []
    },
    {
      "cell_type": "code",
      "source": [
        "## customize optimizer as Nadam or Adam\n",
        "ensemble_model.compile(optimizer=tf.keras.optimizers.Nadam(learning_rate=base_learning_rate),\n",
        "                           loss=tf.keras.losses.SparseCategoricalCrossentropy(),\n",
        "                           metrics=['accuracy'])"
      ],
      "metadata": {
        "id": "Mas7WedObgOl"
      },
      "execution_count": 13,
      "outputs": []
    },
    {
      "cell_type": "code",
      "source": [
        "## change hyperparameter such as epoches ## EnsembleNet3: Resnet, efficientnet, densenet\n",
        "history = ensemble_model.fit(train_dataset , verbose=2 , epochs=13 , class_weight=class_weight ,\n",
        "                               validation_data=valid_dataset , use_multiprocessing= True)"
      ],
      "metadata": {
        "id": "kz8h_TNpzZ3Q"
      },
      "execution_count": null,
      "outputs": []
    },
    {
      "cell_type": "code",
      "source": [
        "## change hyperparameter such as epoches ## EnsembleNet3: Resnet, efficientnet, densenet\n",
        "history = ensemble_model.fit(train_dataset , verbose=2 , epochs=13 , class_weight=class_weight ,\n",
        "                               validation_data=valid_dataset , use_multiprocessing= True)"
      ],
      "metadata": {
        "id": "T42p-ZTUbjk_",
        "colab": {
          "base_uri": "https://localhost:8080/"
        },
        "outputId": "b66ae0ac-8e5f-4d20-9711-c5019bf90378"
      },
      "execution_count": 14,
      "outputs": [
        {
          "output_type": "stream",
          "name": "stdout",
          "text": [
            "Epoch 1/13\n",
            "26/26 - 285s - loss: 0.0299 - accuracy: 0.9967 - val_loss: 0.0421 - val_accuracy: 0.9930 - 285s/epoch - 11s/step\n",
            "Epoch 2/13\n",
            "26/26 - 227s - loss: 0.0502 - accuracy: 0.9933 - val_loss: 0.2857 - val_accuracy: 0.9442 - 227s/epoch - 9s/step\n",
            "Epoch 3/13\n",
            "26/26 - 225s - loss: 0.2241 - accuracy: 0.9806 - val_loss: 0.3000 - val_accuracy: 0.9599 - 225s/epoch - 9s/step\n",
            "Epoch 4/13\n",
            "26/26 - 225s - loss: 0.2685 - accuracy: 0.9678 - val_loss: 0.3949 - val_accuracy: 0.9319 - 225s/epoch - 9s/step\n",
            "Epoch 5/13\n",
            "26/26 - 222s - loss: 0.4589 - accuracy: 0.7838 - val_loss: 0.4423 - val_accuracy: 0.9494 - 222s/epoch - 9s/step\n",
            "Epoch 6/13\n",
            "26/26 - 223s - loss: 0.4069 - accuracy: 0.9484 - val_loss: 0.4281 - val_accuracy: 0.9511 - 223s/epoch - 9s/step\n",
            "Epoch 7/13\n",
            "26/26 - 226s - loss: 0.5854 - accuracy: 0.6612 - val_loss: 0.9000 - val_accuracy: 0.4695 - 226s/epoch - 9s/step\n",
            "Epoch 8/13\n",
            "26/26 - 227s - loss: 0.6711 - accuracy: 0.6785 - val_loss: 0.4807 - val_accuracy: 0.8866 - 227s/epoch - 9s/step\n",
            "Epoch 9/13\n",
            "26/26 - 224s - loss: 0.6556 - accuracy: 0.6624 - val_loss: 0.4462 - val_accuracy: 0.9424 - 224s/epoch - 9s/step\n",
            "Epoch 10/13\n",
            "26/26 - 218s - loss: nan - accuracy: 0.5073 - val_loss: nan - val_accuracy: 0.6213 - 218s/epoch - 8s/step\n",
            "Epoch 11/13\n",
            "26/26 - 221s - loss: nan - accuracy: 0.5000 - val_loss: nan - val_accuracy: 0.6213 - 221s/epoch - 9s/step\n",
            "Epoch 12/13\n",
            "26/26 - 222s - loss: nan - accuracy: 0.5000 - val_loss: nan - val_accuracy: 0.6213 - 222s/epoch - 9s/step\n",
            "Epoch 13/13\n",
            "26/26 - 224s - loss: nan - accuracy: 0.5000 - val_loss: nan - val_accuracy: 0.6213 - 224s/epoch - 9s/step\n"
          ]
        }
      ]
    },
    {
      "cell_type": "code",
      "source": [
        "ensemble_model.evaluate(test_dataset , verbose = 1)"
      ],
      "metadata": {
        "id": "VXlH_vn_cHmq",
        "colab": {
          "base_uri": "https://localhost:8080/"
        },
        "outputId": "27632781-5af2-4195-c72a-4f30bc817b4b"
      },
      "execution_count": 15,
      "outputs": [
        {
          "output_type": "stream",
          "name": "stdout",
          "text": [
            "5/5 [==============================] - 33s 5s/step - loss: nan - accuracy: 0.6230\n"
          ]
        },
        {
          "output_type": "execute_result",
          "data": {
            "text/plain": [
              "[nan, 0.6230366230010986]"
            ]
          },
          "metadata": {},
          "execution_count": 15
        }
      ]
    },
    {
      "cell_type": "code",
      "source": [
        "plt.figure(figsize=(20, 15))\n",
        "for images, labels in test_dataset.take(1):\n",
        "    for i in range(25):\n",
        "        plt.subplot(5,5,i+1)\n",
        "        plt.imshow(images[i].numpy().astype(\"uint8\"))\n",
        "        plt.axis(\"off\")\n",
        "        im2 = images[i].numpy().astype(\"uint8\")\n",
        "        img2 = tf.expand_dims(im2, 0)\n",
        "        predict = ensemble_model.predict(img2)\n",
        "        predicted= class_names[np.argmax(predict)]\n",
        "        actual = class_names [labels[i].numpy().astype(\"uint8\")]\n",
        "        if (actual == predicted):\n",
        "            plt.title(predicted, fontsize=10, color= 'blue', pad=15);\n",
        "        else :\n",
        "            plt.title(actual, fontsize=10, color= 'red' ,pad=15);\n",
        "        plt.subplots_adjust(left=0.1,bottom=0.1, right=0.9,\n",
        "                            top=0.9, wspace=0.4,hspace=0.4)"
      ],
      "metadata": {
        "id": "VUtUt58KcHqN"
      },
      "execution_count": null,
      "outputs": []
    },
    {
      "cell_type": "code",
      "source": [
        "acc = [0.] + history.history['accuracy']\n",
        "val_acc = [0.] + history.history['val_accuracy']\n",
        "\n",
        "loss = history.history['loss']\n",
        "val_loss = history.history['val_loss']\n",
        "\n",
        "plt.figure(figsize=(17, 12))\n",
        "plt.subplot(2, 2, 1)\n",
        "plt.plot(acc, label='Training Accuracy')\n",
        "plt.plot(val_acc, label='Validation Accuracy')\n",
        "plt.legend(loc='lower right')\n",
        "plt.ylabel('Accuracy')\n",
        "plt.ylim([min(plt.ylim()),1])\n",
        "plt.title('Training and Validation Accuracy')\n",
        "\n",
        "plt.subplot(2, 2, 2)\n",
        "plt.plot(loss, label='Training Loss')\n",
        "plt.plot(val_loss, label='Validation Loss')\n",
        "plt.legend(loc='upper right')\n",
        "plt.ylabel('Cross Entropy')\n",
        "plt.ylim([0,3.0])\n",
        "plt.title('Training and Validation Loss')\n",
        "plt.xlabel('epoch')\n",
        "plt.show()"
      ],
      "metadata": {
        "id": "N3qe_8gVcHtb"
      },
      "execution_count": null,
      "outputs": []
    },
    {
      "cell_type": "code",
      "source": [
        "from sklearn.preprocessing import label_binarize\n",
        "\n",
        "# Initialize empty lists to store true labels and predicted labels\n",
        "true_labels = []\n",
        "predicted_labels = []\n",
        "\n",
        "# Iterate through the validation dataset and make predictions\n",
        "for images, labels in test_dataset:\n",
        "    predictions = ensemble_model.predict(images)\n",
        "    predicted_labels.extend(np.argmax(predictions, axis=1))\n",
        "    true_labels.extend(labels.numpy())\n",
        "\n",
        "# Binarize the true and predicted labels\n",
        "true_labels_bin = label_binarize(true_labels, classes=np.unique(true_labels))\n",
        "predicted_labels_bin = label_binarize(predicted_labels, classes=np.unique(predicted_labels))"
      ],
      "metadata": {
        "id": "-u1Z5OaxcNEX",
        "colab": {
          "base_uri": "https://localhost:8080/"
        },
        "outputId": "f6f97b9e-415a-4413-ed44-91d00c425bdb"
      },
      "execution_count": 16,
      "outputs": [
        {
          "output_type": "stream",
          "name": "stdout",
          "text": [
            "4/4 [==============================] - 11s 1s/step\n",
            "4/4 [==============================] - 5s 1s/step\n",
            "4/4 [==============================] - 5s 1s/step\n",
            "4/4 [==============================] - 5s 1s/step\n",
            "2/2 [==============================] - 9s 1s/step\n"
          ]
        }
      ]
    },
    {
      "cell_type": "code",
      "source": [
        "from sklearn.metrics import classification_report\n",
        "\n",
        "# Generate the classification report\n",
        "report = classification_report(true_labels, predicted_labels, target_names=class_names)\n",
        "\n",
        "# Print the classification report\n",
        "print(report)"
      ],
      "metadata": {
        "id": "dTscF3tAcHw4"
      },
      "execution_count": null,
      "outputs": []
    },
    {
      "cell_type": "code",
      "source": [
        "import numpy as np\n",
        "import matplotlib.pyplot as plt\n",
        "from sklearn.metrics import roc_curve, roc_auc_score\n",
        "\n",
        "# Assuming 'model' is your trained model and 'test_dataset' is your test data\n",
        "predicted_probs = []\n",
        "true_labels = []\n",
        "for images, labels in test_dataset:\n",
        "    predictions = ensemble_model.predict(images)\n",
        "    predicted_probs.extend(predictions) # Assuming your model outputs probabilities\n",
        "    true_labels.extend(labels.numpy())\n",
        "\n",
        "# Ensure predicted_probs are probabilities for the positive class\n",
        "if len(predicted_probs[0]) > 1:\n",
        "    predicted_probs = np.array(predicted_probs)[:, 1] # Assuming binary classification\n",
        "\n",
        "# Compute ROC curve\n",
        "fpr, tpr, thresholds = roc_curve(true_labels, predicted_probs)\n",
        "\n",
        "# Calculate AUC\n",
        "auc = roc_auc_score(true_labels, predicted_probs)\n",
        "\n",
        "# Plot ROC Curve\n",
        "plt.figure()\n",
        "plt.plot(fpr, tpr, color='blue', label='ROC Curve (AUC = {:.2f})'.format(auc))\n",
        "plt.plot([0, 1], [0, 1], color='red', linestyle='--')  # Diagonal line\n",
        "plt.xlim([0.0, 1.0])\n",
        "plt.ylim([0.0, 1.05])\n",
        "plt.xlabel('False Positive Rate')\n",
        "plt.ylabel('True Positive Rate')\n",
        "plt.title('Receiver Operating Characteristic (ROC) Curve')\n",
        "plt.legend(loc='lower right')\n",
        "plt.show()"
      ],
      "metadata": {
        "id": "NOfC62QlcQwQ"
      },
      "execution_count": null,
      "outputs": []
    },
    {
      "cell_type": "code",
      "source": [
        "from sklearn.metrics import confusion_matrix\n",
        "\n",
        "conf_matrix = confusion_matrix(true_labels, predicted_labels)\n",
        "\n",
        "# Plot the confusion matrix as a heatmap\n",
        "plt.figure(figsize=(5, 3))\n",
        "sns.heatmap(conf_matrix, annot=True, fmt='d', cmap='Blues', xticklabels=class_names, yticklabels=class_names)\n",
        "plt.xlabel('Predicted Labels')\n",
        "plt.ylabel('True Labels')\n",
        "## change the model name\n",
        "plt.title('Confusion Matrix ')\n",
        "plt.show()"
      ],
      "metadata": {
        "id": "Mv3oXcuGcS9O",
        "colab": {
          "base_uri": "https://localhost:8080/",
          "height": 333
        },
        "outputId": "5984fa08-a575-4905-c327-7ce4d1115bbc"
      },
      "execution_count": 18,
      "outputs": [
        {
          "output_type": "display_data",
          "data": {
            "text/plain": [
              "<Figure size 500x300 with 2 Axes>"
            ],
            "image/png": "[encoded data removed]"
          },
          "metadata": {}
        }
      ]
    },
    {
      "cell_type": "code",
      "source": [
        "from sklearn.metrics import cohen_kappa_score\n",
        "\n",
        "kappa = cohen_kappa_score(true_labels, predicted_labels)\n",
        "print(f'Cohen\\'s Kappa: {kappa:.4f}')"
      ],
      "metadata": {
        "id": "Jn2taig_cWAP"
      },
      "execution_count": null,
      "outputs": []
    },
    {
      "cell_type": "code",
      "source": [
        "from sklearn.metrics import matthews_corrcoef\n",
        "import numpy as np\n",
        "\n",
        "# Assuming true_labels and predicted_labels are multiclass labels\n",
        "mcc_values = [matthews_corrcoef(true_labels == i, predicted_labels == i) for i in np.unique(true_labels)]\n",
        "\n",
        "average_mcc = np.mean(mcc_values)\n",
        "print(f'Average Matthews Correlation Coefficient for Multiclass: {average_mcc:.4f}')"
      ],
      "metadata": {
        "id": "Aeu3jRT9cXWY"
      },
      "execution_count": null,
      "outputs": []
    },
    {
      "cell_type": "code",
      "source": [
        "# Calculate total right and wrong predictions\n",
        "total_right = sum(1 for true, pred in zip(true_labels, predicted_labels) if true == pred)\n",
        "total_wrong = sum(1 for true, pred in zip(true_labels, predicted_labels) if true != pred)\n",
        "total_samples = len(true_labels)\n",
        "\n",
        "# Calculate wrong prediction percentage\n",
        "wrong_prediction_percentage = (total_wrong / total_samples) * 100\n",
        "\n",
        "print(\"Total Right Predictions:\", total_right)\n",
        "print(\"Total Wrong Predictions:\", total_wrong)\n",
        "print(\"Wrong Prediction Percentage: {:.2f}%\".format(wrong_prediction_percentage))\n",
        "\n",
        "\n",
        "# Prepare data for plotting\n",
        "categories = ['Right Predictions', 'Wrong Predictions']\n",
        "values = [total_right, total_wrong]\n",
        "\n",
        "# Create a bar plot\n",
        "plt.figure(figsize=(6, 4))\n",
        "plt.bar(categories, values, color=['green', 'red'])\n",
        "plt.ylabel('Count')\n",
        "plt.title('Right and Wrong Predictions')\n",
        "\n",
        "# Show counts on top of the bars\n",
        "for i, v in enumerate(values):\n",
        "    plt.text(i, v + 0.1, str(v), ha='center', fontweight='bold')\n",
        "\n",
        "plt.show()"
      ],
      "metadata": {
        "id": "WKXkGnMUcYv4"
      },
      "execution_count": null,
      "outputs": []
    },
    {
      "cell_type": "code",
      "source": [
        "# Calculate confusion matrix\n",
        "cm = confusion_matrix(true_labels, predicted_labels)\n",
        "TN, FP, FN, TP = cm.ravel()\n",
        "\n",
        "# Right and wrong classifications\n",
        "right_classifications = TP + TN\n",
        "wrong_classifications = FP + FN\n",
        "\n",
        "# Calculate percentages\n",
        "total = right_classifications + wrong_classifications\n",
        "right_percentage = (right_classifications / total) * 100\n",
        "wrong_percentage = (wrong_classifications / total) * 100\n",
        "\n",
        "# Data for the bar plot\n",
        "labels = ['Right', 'Wrong']\n",
        "percentages = [right_percentage, wrong_percentage]\n",
        "\n",
        "\n",
        "# Create the bar plot\n",
        "plt.figure(figsize=(8, 5))\n",
        "bars = plt.bar(labels, percentages, color=['green', 'red'])\n",
        "\n",
        "# Add percentage labels above the bars\n",
        "for bar in bars:\n",
        "    yval = bar.get_height()\n",
        "    plt.text(bar.get_x() + bar.get_width()/2, yval, f'{yval:.1f}%',\n",
        "             ha='center', va='bottom')  # va: vertical alignment\n",
        "\n",
        "# Add titles and labels\n",
        "plt.title('Classification Results')\n",
        "plt.ylabel('Percentage (%)')\n",
        "plt.ylim(0, 100)  # Set y-axis limit to 100%\n",
        "plt.axhline(0, color='grey', linewidth=0.8, linestyle='--')  # Optional: Add a horizontal line at y=0\n",
        "\n",
        "# Show the plot\n",
        "plt.show()"
      ],
      "metadata": {
        "id": "LrqIrMlIcaxo",
        "colab": {
          "base_uri": "https://localhost:8080/",
          "height": 468
        },
        "outputId": "d67904c5-413d-4dbe-fec3-4105be8290ef"
      },
      "execution_count": 19,
      "outputs": [
        {
          "output_type": "display_data",
          "data": {
            "text/plain": [
              "<Figure size 800x500 with 1 Axes>"
            ],
            "image/png": "[encoded data removed]"
          },
          "metadata": {}
        }
      ]
    },
    {
      "cell_type": "code",
      "source": [
        "import os\n",
        "import numpy as np\n",
        "import matplotlib.pyplot as plt\n",
        "from PIL import Image\n",
        "import random\n",
        "\n",
        "# Function to load a specified number of random images from subfolders\n",
        "def load_random_images_from_subfolders(folder, num_images=10):\n",
        "    images = []\n",
        "    for subfolder in os.listdir(folder):\n",
        "        subfolder_path = os.path.join(folder, subfolder)\n",
        "        if os.path.isdir(subfolder_path):\n",
        "            image_files = os.listdir(subfolder_path)\n",
        "            # Randomly select images from this subfolder\n",
        "            selected_files = random.sample(image_files, min(num_images, len(image_files)))\n",
        "            for image_file in selected_files:\n",
        "                img_path = os.path.join(subfolder_path, image_file)\n",
        "                img = Image.open(img_path)\n",
        "                img = img.resize((64, 64))  # Resize to a consistent size if necessary\n",
        "                images.append(np.array(img) / 255.0)  # Normalize pixel values\n",
        "                if len(images) >= num_images:  # Stop if we have loaded enough images\n",
        "                    return np.array(images)\n",
        "    return np.array(images)\n",
        "\n",
        "# Set the path to your test folder\n",
        "test_folder = '/content/drive/MyDrive/MIAS/test'  # Folder containing subfolders of images\n",
        "\n",
        "# Load a few random images from subfolders (up to 10)\n",
        "images = load_random_images_from_subfolders(test_folder, num_images=5)\n",
        "\n",
        "# Assuming you already have true and predicted labels loaded\n",
        "# Replace these with your actual arrays\n",
        "true_labels = true_labels  # Example true labels\n",
        "predicted_labels = predicted_labels # Example predicted labels\n",
        "\n",
        "# Set up the plot\n",
        "cols = 2  # Two columns: original and predicted\n",
        "rows = 10  # One row for each image\n",
        "\n",
        "fig, axes = plt.subplots(rows, cols, figsize=(10, 5 * 10))\n",
        "\n",
        "# Loop through and display images\n",
        "for i in range(len(images)):\n",
        "    original_image = images[i]\n",
        "    predicted_label = predicted_labels[i]\n",
        "    true_label = true_labels[i]\n",
        "\n",
        "    # Plot original image\n",
        "    axes[i, 0].imshow(original_image, cmap='gray')\n",
        "    axes[i, 0].set_title(f'Original Label: {true_label}')\n",
        "    axes[i, 0].axis('off')\n",
        "\n",
        "    # Plot predicted image (optionally the same image)\n",
        "    axes[i, 1].imshow(original_image, cmap='gray')\n",
        "    axes[i, 1].set_title(f'Predicted Label: {predicted_label}')\n",
        "    axes[i, 1].axis('off')\n",
        "\n",
        "# Adjust layout\n",
        "plt.tight_layout()\n",
        "plt.show()\n"
      ],
      "metadata": {
        "id": "kvGw4fs1cc7_"
      },
      "execution_count": null,
      "outputs": []
    },
    {
      "cell_type": "code",
      "source": [
        "# Calculate the confusion matrix\n",
        "tn, fp, fn, tp = confusion_matrix(true_labels, predicted_labels).ravel()\n",
        "\n",
        "# Calculate sensitivity, specificity, and Jaccard index\n",
        "sensitivity = tp / (tp + fn) if (tp + fn) > 0 else 0\n",
        "specificity = tn / (tn + fp) if (tn + fp) > 0 else 0\n",
        "\n",
        "# Print the results\n",
        "print(f\"Sensitivity: {sensitivity:.2f}\")\n",
        "print(f\"Specificity: {specificity:.2f}\")\n",
        "\n",
        "# Metrics for plotting\n",
        "metrics = [sensitivity, specificity]\n",
        "labels = ['Sensitivity', 'Specificity']\n",
        "\n",
        "# Create bar plot\n",
        "plt.bar(labels, metrics, color=['blue', 'orange'])\n",
        "plt.ylim(0, 1)  # Set y-axis limit from 0 to 1\n",
        "plt.ylabel('Score')\n",
        "plt.title('Sensitivity and Specificity')\n",
        "plt.grid(axis='y', linestyle='--', alpha=0.7)\n",
        "\n",
        "# Show the plot\n",
        "plt.show()"
      ],
      "metadata": {
        "id": "0u9lDxeHceKf"
      },
      "execution_count": null,
      "outputs": []
    },
    {
      "cell_type": "code",
      "source": [
        "# Calculate the confusion matrix\n",
        "tn, fp, fn, tp = confusion_matrix(true_labels, predicted_labels).ravel()\n",
        "\n",
        "# Calculate Jaccard Index\n",
        "jaccard_index = tp / (tp + fp + fn) if (tp + fp + fn) > 0 else 0\n",
        "\n",
        "# Calculate Dice Score\n",
        "dice_score = (2 * tp) / (2 * tp + fp + fn) if (2 * tp + fp + fn) > 0 else 0\n",
        "\n",
        "# Print results\n",
        "print(f\"Jaccard Index: {jaccard_index:.2f}\")\n",
        "print(f\"Dice Score: {dice_score:.2f}\")\n",
        "\n",
        "# Metrics for plotting\n",
        "metrics = [jaccard_index, dice_score]\n",
        "labels = ['Jaccard Index', 'Dice Score']\n",
        "\n",
        "# Create bar plot\n",
        "plt.bar(labels, metrics, color=['blue', 'orange'])\n",
        "plt.ylim(0, 1)  # Set y-axis limit from 0 to 1\n",
        "plt.ylabel('Score')\n",
        "plt.title('Performance Metrics')\n",
        "plt.grid(axis='y', linestyle='--', alpha=0.7)\n",
        "\n",
        "# Show the plot\n",
        "plt.show()"
      ],
      "metadata": {
        "id": "0OogPUSgcf1Y"
      },
      "execution_count": null,
      "outputs": []
    },
    {
      "cell_type": "code",
      "source": [
        "import numpy as np\n",
        "from sklearn.metrics import confusion_matrix, roc_auc_score\n",
        "\n",
        "# Example true labels and predicted labels\n",
        "\n",
        "\n",
        "# Calculate confusion matrix components\n",
        "tn, fp, fn, tp = confusion_matrix(true_labels, predicted_labels).ravel()\n",
        "\n",
        "# Calculate metrics\n",
        "accuracy = (tp + tn) / (tp + tn + fp + fn)\n",
        "precision = tp / (tp + fp) if (tp + fp) > 0 else 0\n",
        "recall = tp / (tp + fn) if (tp + fn) > 0 else 0\n",
        "f1_score = 2 * (precision * recall) / (precision + recall) if (precision + recall) > 0 else 0\n",
        "npv = tn / (tn + fn) if (tn + fn) > 0 else 0\n",
        "\n",
        "# AUC-ROC calculation\n",
        "# Ensure predicted probabilities are available if needed\n",
        "# For binary classification with predicted labels as 0 and 1, we can use predicted_labels directly for AUC\n",
        "# If you have probabilities instead, use that instead\n",
        "# predicted_probabilities = model.predict_proba(X_test)[:, 1]  # Example for getting probabilities\n",
        "# auc_roc = roc_auc_score(true_labels, predicted_probabilities)\n",
        "auc_roc = roc_auc_score(true_labels, predicted_labels)\n",
        "\n",
        "# Print the metrics\n",
        "print(f\"Accuracy: {accuracy:.4f}\")\n",
        "print(f\"Precision: {precision:.4f}\")\n",
        "print(f\"Recall: {recall:.4f}\")\n",
        "print(f\"F1 Score: {f1_score:.4f}\")\n",
        "print(f\"Negative Predictive Value (NPV): {npv:.4f}\")\n",
        "print(f\"AUC-ROC: {auc_roc:.4f}\")\n"
      ],
      "metadata": {
        "id": "XkXl-DbDcg9f"
      },
      "execution_count": null,
      "outputs": []
    },
    {
      "cell_type": "code",
      "source": [
        "# Store metrics in a dictionary\n",
        "metrics = {\n",
        "    'Accuracy': accuracy,\n",
        "    'Precision': precision,\n",
        "    'Recall': recall,\n",
        "    'F1 Score': f1_score,\n",
        "    'Negative Predictive Value (NPV)': npv,\n",
        "    'AUC-ROC': auc_roc\n",
        "}\n",
        "\n",
        "# Plotting the metrics\n",
        "plt.figure(figsize=(15, 5))\n",
        "plt.bar(metrics.keys(), metrics.values(), color=['blue', 'orange', 'green', 'red', 'purple', 'cyan'])\n",
        "plt.ylabel('Score')\n",
        "plt.title('Model Evaluation Metrics')\n",
        "plt.ylim(0, 1)  # Set the y-axis limit from 0 to 1\n",
        "plt.axhline(y=0.5, color='grey', linestyle='--')  # Reference line at 0.5\n",
        "plt.grid(axis='y')\n",
        "\n",
        "# Show the plot\n",
        "plt.show()"
      ],
      "metadata": {
        "id": "tCJ8MDwOciDH"
      },
      "execution_count": null,
      "outputs": []
    }
  ]
}