{
 "cells": [
  {
   "cell_type": "code",
   "execution_count": 6,
   "metadata": {},
   "outputs": [
    {
     "data": {
      "text/plain": [
       "'C:\\\\Users\\\\U840T'"
      ]
     },
     "execution_count": 6,
     "metadata": {},
     "output_type": "execute_result"
    }
   ],
   "source": [
    "pwd"
   ]
  },
  {
   "cell_type": "code",
   "execution_count": 7,
   "metadata": {},
   "outputs": [],
   "source": [
    "import pandas as pd\n",
    "import matplotlib.pyplot as plt"
   ]
  },
  {
   "cell_type": "code",
   "execution_count": 8,
   "metadata": {},
   "outputs": [
    {
     "name": "stdout",
     "output_type": "stream",
     "text": [
      "    YearsExperience  Salary\n",
      "0               1.1   39343\n",
      "1               1.3   46205\n",
      "2               1.5   37731\n",
      "3               2.0   43525\n",
      "4               2.2   39891\n",
      "5               2.9   56642\n",
      "6               3.0   60150\n",
      "7               3.2   54445\n",
      "8               3.2   64445\n",
      "9               3.7   57189\n",
      "10              3.9   63218\n",
      "11              4.0   55794\n",
      "12              4.0   56957\n",
      "13              4.1   57081\n",
      "14              4.5   61111\n",
      "15              4.9   67938\n",
      "16              5.1   66029\n",
      "17              5.3   83088\n",
      "18              5.9   81363\n",
      "19              6.0   93940\n",
      "20              6.8   91738\n",
      "21              7.1   98273\n",
      "22              7.9  101302\n",
      "23              8.2  113812\n",
      "24              8.7  109431\n",
      "25              9.0  105582\n",
      "26              9.5  116969\n",
      "27              9.6  112635\n",
      "28             10.3  122391\n",
      "29             10.5  121872\n"
     ]
    }
   ],
   "source": [
    "file=pd.read_csv('salary_data.csv')\n",
    "print(file)"
   ]
  },
  {
   "cell_type": "code",
   "execution_count": 9,
   "metadata": {},
   "outputs": [],
   "source": [
    "x=file.YearsExperience\n",
    "y=file. Salary"
   ]
  },
  {
   "cell_type": "code",
   "execution_count": 10,
   "metadata": {},
   "outputs": [
    {
     "name": "stdout",
     "output_type": "stream",
     "text": [
      "11530.711401565448 2018.7016793124153\n"
     ]
    }
   ],
   "source": [
    "m=0\n",
    "c=0\n",
    "l=0.0001\n",
    "\n",
    "run=300\n",
    "\n",
    "for j in range(0,run):\n",
    "    y_cap=[]\n",
    "    for i in range(0,len(x)):\n",
    "        y_cap.append(m*x[i]+c)\n",
    "    \n",
    "    p=0\n",
    "    for i in range(0,len(x)):\n",
    "        a=x[i]*(y[i]-y_cap[i])\n",
    "        p+=a\n",
    "    dm=(-2/len(x))*p\n",
    "    \n",
    "\n",
    "    p1=0\n",
    "    for i in range(0,len(x)):\n",
    "        b=(y[i]-y_cap[i])\n",
    "        p1+=b\n",
    "    dc=(-2/len(x))*p1\n",
    "    \n",
    "    m=m-(l*dm)\n",
    "    c=c-(l*dc)\n",
    "\n",
    "print(m,c)"
   ]
  },
  {
   "cell_type": "code",
   "execution_count": 11,
   "metadata": {},
   "outputs": [
    {
     "name": "stdout",
     "output_type": "stream",
     "text": [
      "[14702.484221034409, 17008.6265013475, 19314.768781660587, 25080.124482443312, 27386.266762756404, 35457.76474385221, 36610.83588400875, 38916.978164321845, 38916.978164321845, 44682.33386510457, 46988.47614541766, 48141.547285574205, 48141.547285574205, 49294.61842573075, 53906.90298635693, 58519.187546983114, 60825.32982729619, 63131.47210760928, 70049.89894854857, 71202.9700887051, 80427.53920995747, 83886.7526304271, 93111.32175167947, 96570.53517214909, 102335.8908729318, 105795.10429340145, 111560.45999418417, 112713.53113434072, 120785.02911543654, 123091.17139574962]\n"
     ]
    }
   ],
   "source": [
    "pp=[]\n",
    "for i in range(0,len(x)):\n",
    "    px=(m*x[i])+c\n",
    "    pp.append(px)\n",
    "    \n",
    "print(pp)"
   ]
  },
  {
   "cell_type": "code",
   "execution_count": 12,
   "metadata": {},
   "outputs": [
    {
     "data": {
      "image/png": "[encoded data removed]",
      "text/plain": [
       "<Figure size 432x288 with 1 Axes>"
      ]
     },
     "metadata": {
      "needs_background": "light"
     },
     "output_type": "display_data"
    }
   ],
   "source": [
    "plt.scatter(x, y) \n",
    "plt.scatter(x, pp, color='red')\n",
    "plt.plot(x, pp, color='red')\n",
    "plt.show()"
   ]
  },
  {
   "cell_type": "code",
   "execution_count": null,
   "metadata": {},
   "outputs": [],
   "source": []
  },
  {
   "cell_type": "code",
   "execution_count": null,
   "metadata": {},
   "outputs": [],
   "source": []
  },
  {
   "cell_type": "code",
   "execution_count": null,
   "metadata": {},
   "outputs": [],
   "source": []
  }
 ],
 "metadata": {
  "kernelspec": {
   "display_name": "Python 3",
   "language": "python",
   "name": "python3"
  },
  "language_info": {
   "codemirror_mode": {
    "name": "ipython",
    "version": 3
   },
   "file_extension": ".py",
   "mimetype": "text/x-python",
   "name": "python",
   "nbconvert_exporter": "python",
   "pygments_lexer": "ipython3",
   "version": "3.7.3"
  }
 },
 "nbformat": 4,
 "nbformat_minor": 2
}
