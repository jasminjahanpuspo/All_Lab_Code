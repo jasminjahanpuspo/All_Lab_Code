{
 "cells": [
  {
   "cell_type": "code",
   "execution_count": 44,
   "metadata": {},
   "outputs": [],
   "source": [
    "import numpy as np"
   ]
  },
  {
   "cell_type": "code",
   "execution_count": 45,
   "metadata": {},
   "outputs": [],
   "source": [
    "x=[[1,10],[1,20],[1,30],[1,40],[1,50],[1,60],[1,70]]\n",
    "y=[0,0,0,1,1,1,1]\n",
    "\n",
    "x=np.array(x)\n",
    "y=np.array(y)"
   ]
  },
  {
   "cell_type": "code",
   "execution_count": 46,
   "metadata": {},
   "outputs": [],
   "source": [
    "def zvalue(theta1):\n",
    "    z1=[]\n",
    "\n",
    "    for i in range(len(x)):\n",
    "        z1.append(np.dot(x[i],theta1))\n",
    "\n",
    "    return z1"
   ]
  },
  {
   "cell_type": "code",
   "execution_count": 47,
   "metadata": {},
   "outputs": [],
   "source": [
    "def y_capvalue(yy):\n",
    "    ycap=[]\n",
    "    for i in range(0,len(yy)):\n",
    "        a1=-1*yy[i]\n",
    "        a2=np.exp(a1)\n",
    "        a3=1+a2\n",
    "        a4=1/a3\n",
    "        ycap.append(a4)\n",
    "    #print(s)\n",
    "    return ycap"
   ]
  },
  {
   "cell_type": "code",
   "execution_count": 48,
   "metadata": {},
   "outputs": [],
   "source": [
    "def d_t0_valu(temp_y_cap):\n",
    "    d_t0=0\n",
    "    for i in range(len(x)):\n",
    "        d_t0+=(y[i]-temp_y_cap[i])*x[i][0]\n",
    "    d_t0=-d_t0/len(x)\n",
    "   # print(\"d_t0\",d_t0)\n",
    "    return d_t0"
   ]
  },
  {
   "cell_type": "code",
   "execution_count": 49,
   "metadata": {},
   "outputs": [],
   "source": [
    "def d_t1_valu(temp_y_cap):\n",
    "    d_t1=0\n",
    "    for i in range(len(x)):\n",
    "        d_t1+=(y[i]-temp_y_cap[i])*x[i][1]\n",
    "    d_t1=-d_t1/len(x)\n",
    "   # print(\"d_t1\",d_t1)\n",
    "    return d_t1"
   ]
  },
  {
   "cell_type": "code",
   "execution_count": 50,
   "metadata": {},
   "outputs": [],
   "source": [
    "l=0.1\n",
    "theta1=[0,0]\n",
    "temp_y_cap=[]\n",
    "for i in range(5000):\n",
    "    \n",
    "    temp_z=zvalue(theta1)\n",
    "    temp_y_cap=y_capvalue(temp_z)\n",
    "    \n",
    "    \n",
    "    d_t0=d_t0_valu(temp_y_cap)\n",
    "    d_t1=d_t1_valu(temp_y_cap)\n",
    "   \n",
    "    \n",
    "    theta1[0]=theta1[0]-(l*d_t0)\n",
    "    theta1[1]=theta1[1]-(l*d_t1)"
   ]
  },
  {
   "cell_type": "code",
   "execution_count": 51,
   "metadata": {},
   "outputs": [],
   "source": [
    "#print(len(temp_y_cap))\n",
    "for i in range(0,len(temp_y_cap)):\n",
    "    if temp_y_cap[i] < 0.5:\n",
    "        temp_y_cap[i]=0\n",
    "    else:\n",
    "        temp_y_cap[i]=1"
   ]
  },
  {
   "cell_type": "code",
   "execution_count": 52,
   "metadata": {},
   "outputs": [
    {
     "data": {
      "text/plain": [
       "[0, 0, 0, 1, 1, 1, 1]"
      ]
     },
     "execution_count": 52,
     "metadata": {},
     "output_type": "execute_result"
    }
   ],
   "source": [
    "temp_y_cap"
   ]
  },
  {
   "cell_type": "code",
   "execution_count": 53,
   "metadata": {},
   "outputs": [
    {
     "data": {
      "text/plain": [
       "100.0"
      ]
     },
     "execution_count": 53,
     "metadata": {},
     "output_type": "execute_result"
    }
   ],
   "source": [
    "c=0;\n",
    "for i in temp_y_cap:\n",
    "    if y[i]==temp_y_cap[i]:\n",
    "        c+=1\n",
    "        \n",
    "acc=c/len(x)*100\n",
    "acc"
   ]
  },
  {
   "cell_type": "code",
   "execution_count": null,
   "metadata": {},
   "outputs": [],
   "source": []
  },
  {
   "cell_type": "code",
   "execution_count": null,
   "metadata": {},
   "outputs": [],
   "source": []
  }
 ],
 "metadata": {
  "kernelspec": {
   "display_name": "Python 3",
   "language": "python",
   "name": "python3"
  },
  "language_info": {
   "codemirror_mode": {
    "name": "ipython",
    "version": 3
   },
   "file_extension": ".py",
   "mimetype": "text/x-python",
   "name": "python",
   "nbconvert_exporter": "python",
   "pygments_lexer": "ipython3",
   "version": "3.7.3"
  }
 },
 "nbformat": 4,
 "nbformat_minor": 2
}
