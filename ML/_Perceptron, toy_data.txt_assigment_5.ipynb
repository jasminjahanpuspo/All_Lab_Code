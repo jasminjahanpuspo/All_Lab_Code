{
 "cells": [
  {
   "cell_type": "code",
   "execution_count": 34,
   "metadata": {},
   "outputs": [
    {
     "data": {
      "text/plain": [
       "'C:\\\\Users\\\\U840T'"
      ]
     },
     "execution_count": 34,
     "metadata": {},
     "output_type": "execute_result"
    }
   ],
   "source": [
    "pwd"
   ]
  },
  {
   "cell_type": "code",
   "execution_count": 35,
   "metadata": {},
   "outputs": [],
   "source": [
    "import numpy as np\n",
    "import matplotlib.pyplot as plt"
   ]
  },
  {
   "cell_type": "code",
   "execution_count": 20,
   "metadata": {},
   "outputs": [
    {
     "name": "stdout",
     "output_type": "stream",
     "text": [
      "[[ 1  8  7]\n",
      " [ 1  4 10]\n",
      " [ 1  9  7]\n",
      " [ 1  7 10]\n",
      " [ 1  9  6]\n",
      " [ 1  4  8]\n",
      " [ 1 10 10]\n",
      " [ 1  2  7]\n",
      " [ 1  8  3]\n",
      " [ 1  7  5]\n",
      " [ 1  4  4]\n",
      " [ 1  4  6]\n",
      " [ 1  1  3]\n",
      " [ 1  2  5]]\n"
     ]
    }
   ],
   "source": [
    "x=np.array([\n",
    "    [1,8,7],\n",
    "    [1,4,10],\n",
    "    [1,9,7],\n",
    "    [1,7,10],\n",
    "    [1,9,6],\n",
    "    [1,4,8],\n",
    "    [1,10,10],\n",
    "    [1,2,7],\n",
    "    [1,8,3],\n",
    "    [1,7,5],\n",
    "    [1,4,4],\n",
    "    [1,4,6],\n",
    "    [1,1,3],\n",
    "    [1,2,5]\n",
    "])\n",
    "print(x)"
   ]
  },
  {
   "cell_type": "code",
   "execution_count": 21,
   "metadata": {},
   "outputs": [
    {
     "name": "stdout",
     "output_type": "stream",
     "text": [
      "[ 1  1  1  1  1  1  1 -1 -1 -1 -1 -1 -1 -1]\n"
     ]
    }
   ],
   "source": [
    "y=np.array([1,1,1,1,1,1,1,-1,-1,-1,-1,-1,-1,-1])\n",
    "print(y)"
   ]
  },
  {
   "cell_type": "code",
   "execution_count": 22,
   "metadata": {},
   "outputs": [],
   "source": [
    "def li_reg(x,w):\n",
    "    val=0\n",
    "    for i,j in zip(x,w):\n",
    "        val+=i*j\n",
    "    return val"
   ]
  },
  {
   "cell_type": "code",
   "execution_count": 23,
   "metadata": {},
   "outputs": [],
   "source": [
    "def give_sign(val):\n",
    "    return np.sign(val)"
   ]
  },
  {
   "cell_type": "code",
   "execution_count": 24,
   "metadata": {},
   "outputs": [],
   "source": [
    "def predict(x, w):\n",
    "    hp=[]\n",
    "    for i in x: \n",
    "        lr=li_reg(i,w)\n",
    "        h=give_sign(lr)\n",
    "        hp.append(h)\n",
    "    return hp"
   ]
  },
  {
   "cell_type": "code",
   "execution_count": 25,
   "metadata": {},
   "outputs": [],
   "source": [
    "def miss_class(py, y):\n",
    "    miss=[]\n",
    "    for i in range(len(y)):\n",
    "        if py[i]!=y[i]:\n",
    "            miss.append(i)\n",
    "    return miss"
   ]
  },
  {
   "cell_type": "code",
   "execution_count": 26,
   "metadata": {},
   "outputs": [],
   "source": [
    "def perceptron(x, y):\n",
    "    w = np.random.rand(3)\n",
    "   # print(w)\n",
    "    \n",
    "    py=predict(x,w)\n",
    "    #print(py)\n",
    "    \n",
    "    miss=miss_class(py,y)\n",
    "    #print(miss)\n",
    "    \n",
    "    while len(miss)>0:\n",
    "        rnd=np.random.choice(miss)\n",
    "        #print(rnd)\n",
    "        \n",
    "        rx=x[rnd]\n",
    "        #print(rx)\n",
    "        \n",
    "        ry=y[rnd]\n",
    "        #print(ry)\n",
    "        \n",
    "        w=w+rx*ry\n",
    "        #print(w)\n",
    "        \n",
    "        py=predict(x,w)\n",
    "        #print(py)\n",
    "        \n",
    "        miss=miss_class(py,y)\n",
    "        \n",
    "    return w"
   ]
  },
  {
   "cell_type": "code",
   "execution_count": 27,
   "metadata": {},
   "outputs": [
    {
     "name": "stdout",
     "output_type": "stream",
     "text": [
      "[-40.37755337   1.79358434   4.24671053]\n"
     ]
    }
   ],
   "source": [
    "w=perceptron(x,y)\n",
    "print(w)"
   ]
  },
  {
   "cell_type": "code",
   "execution_count": 28,
   "metadata": {},
   "outputs": [
    {
     "name": "stdout",
     "output_type": "stream",
     "text": [
      "[-1.0]\n"
     ]
    }
   ],
   "source": [
    "nx=np.array([1,5,5])\n",
    "pp=predict([nx],w)\n",
    "print(pp)"
   ]
  },
  {
   "cell_type": "code",
   "execution_count": 29,
   "metadata": {},
   "outputs": [
    {
     "name": "stdout",
     "output_type": "stream",
     "text": [
      "[1.0, 1.0, 1.0, 1.0, 1.0, 1.0, 1.0, -1.0, -1.0, -1.0, -1.0, -1.0, -1.0, -1.0]\n"
     ]
    }
   ],
   "source": [
    "pp=predict(x,w)\n",
    "print(pp)"
   ]
  },
  {
   "cell_type": "code",
   "execution_count": 33,
   "metadata": {},
   "outputs": [
    {
     "name": "stdout",
     "output_type": "stream",
     "text": [
      "100.0 %\n"
     ]
    }
   ],
   "source": [
    "c=0;\n",
    "y=y\n",
    "for i in range(0,len(pp)):\n",
    "    if(y[i]==pp[i]):\n",
    "        c+=1\n",
    "acc=(c/len(pp))*100\n",
    "print(acc,'%')"
   ]
  },
  {
   "cell_type": "code",
   "execution_count": null,
   "metadata": {},
   "outputs": [],
   "source": []
  }
 ],
 "metadata": {
  "kernelspec": {
   "display_name": "Python 3",
   "language": "python",
   "name": "python3"
  },
  "language_info": {
   "codemirror_mode": {
    "name": "ipython",
    "version": 3
   },
   "file_extension": ".py",
   "mimetype": "text/x-python",
   "name": "python",
   "nbconvert_exporter": "python",
   "pygments_lexer": "ipython3",
   "version": "3.7.3"
  }
 },
 "nbformat": 4,
 "nbformat_minor": 2
}
